{
  "cells": [
    {
      "cell_type": "markdown",
      "source": [
        "**Problem 19**\n",
        "\n",
        "DAYANANDASHABARI S - 22BTRCL045"
      ],
      "metadata": {
        "id": "rsP2Bs4uLx28"
      },
      "id": "rsP2Bs4uLx28"
    },
    {
      "cell_type": "code",
      "execution_count": null,
      "id": "70a090bc",
      "metadata": {
        "id": "70a090bc"
      },
      "outputs": [],
      "source": [
        "import pandas as pd\n",
        "import matplotlib.pyplot as plt\n",
        "import seaborn as sns\n",
        "\n",
        "a_hosp=pd.read_csv(\"AYUSHHospitals.csv\")\n",
        "a_hosp.drop(['Srl no.'], axis=1, inplace=True)\n",
        "\n",
        "census_data=pd.read_csv(\"Clean_data.csv\")\n",
        "\n",
        "aggregations = {\n",
        "    \"Population\": \"sum\",\n",
        "    \"Male\": \"sum\",\n",
        "    \"Female\": \"sum\",\n",
        "    \"Literate\": \"sum\",\n",
        "    \"Literate_Male\": \"sum\",\n",
        "    \"Literate_Female\": \"sum\",\n",
        "    \"Households_Rural\": \"sum\",\n",
        "    \"Households_Urban\": \"sum\",\n",
        "    \"Households\": \"sum\",\n",
        "    \"Young_and_Adult\": \"sum\",\n",
        "    \"Middle_Aged\": \"sum\",\n",
        "    \"Senior_Citizen\": \"sum\",\n",
        "    \"Age_Not_Stated\": \"sum\"\n",
        "}\n",
        "\n",
        "# Group by \"State/UT\" and apply the aggregations\n",
        "df = census_data.groupby(\"State/UT\").agg(aggregations)\n",
        "\n",
        "left_join=pd.merge(a_hosp,df,on='State/UT',how='left')\n",
        "\n",
        "left_join['hospital_ratio'] =a_hosp['No_of GHospitals']/census_data['Population']\n",
        "\n",
        "\n",
        "# Convert data to a DataFrame\n",
        "df = pd.DataFrame(left_join)\n",
        "\n",
        "# Melt the DataFrame to create a long-form DataFrame for seaborn\n",
        "df_melted = df.melt(id_vars='State/UT', var_name='Stratum', value_name='Value')\n",
        "\n",
        "# List of socio-economic strata to compare\n",
        "strata = ['Population', 'Literate', 'Households', 'Young_and_Adult', 'Middle_Aged', 'Senior_Citizen']\n",
        "\n",
        "# Create the combined plot with subplots\n",
        "num_plots = len(strata)\n",
        "num_cols = 3\n",
        "num_rows = (num_plots + num_cols - 1) // num_cols\n",
        "\n",
        "fig, axs = plt.subplots(nrows=num_rows, ncols=num_cols, figsize=(20, 20))\n",
        "\n",
        "for i, stratum in enumerate(strata):\n",
        "    row = i // num_cols\n",
        "    col = i % num_cols\n",
        "    sns.barplot(data=df_melted, x='State/UT', y='Value', hue='Stratum', ax=axs[row, col])\n",
        "    axs[row, col].set_title(stratum)\n",
        "    axs[row, col].set_xlabel('State/UT')\n",
        "    axs[row, col].set_ylabel('Value')\n",
        "\n",
        "# Remove unused subplots\n",
        "for i in range(num_plots, num_rows * num_cols):\n",
        "    fig.delaxes(axs.flatten()[i])\n",
        "\n",
        "plt.tight_layout()\n",
        "plt.show()"
      ]
    },
    {
      "cell_type": "markdown",
      "source": [
        "**Problem 20**\n",
        "\n",
        "DAYANANDASHABARI S - 22BTRCL045"
      ],
      "metadata": {
        "id": "f-0I3B2xMtmt"
      },
      "id": "f-0I3B2xMtmt"
    },
    {
      "cell_type": "code",
      "source": [
        "import pandas as pd\n",
        "import matplotlib.pyplot as plt\n",
        "import seaborn as sns\n",
        "\n",
        "census_data=pd.read_csv(\"/content/Clean_data.csv\")\n",
        "df=pd.DataFrame(census_data)\n",
        "# Assuming a fixed area of 100 square kilometers for each district\n",
        "approx_area_km2 = 100\n",
        "\n",
        "# Calculate population density (population per square kilometer)\n",
        "df['Population Density'] = df['Population'] / approx_area_km2\n",
        "\n",
        "# Identify the most densely populated districts in each state\n",
        "most_densely_populated = df.groupby('State name').apply(lambda x: x.nlargest(1, 'Population Density')).reset_index(drop=True)\n",
        "\n",
        "# Visualize population density using seaborn\n",
        "plt.figure(figsize=(10, 6))\n",
        "sns.barplot(data=most_densely_populated, x='District name', y='Population Density', hue='State name')\n",
        "plt.xlabel('District')\n",
        "plt.ylabel('Population Density (per sq. km)')\n",
        "plt.title('Most Densely Populated Districts in Each State')\n",
        "plt.xticks(rotation=45, ha='right')\n",
        "plt.legend(title='State', loc='upper center', bbox_to_anchor=(0.5, -0.3), ncol=3, prop={'size': 7})\n",
        "plt.tight_layout()\n",
        "plt.show()"
      ],
      "metadata": {
        "id": "9kBGw_hfMszr"
      },
      "id": "9kBGw_hfMszr",
      "execution_count": null,
      "outputs": []
    },
    {
      "cell_type": "markdown",
      "source": [
        "**PROBLEM 21**\n",
        "\n",
        "VISHNU ROOPESH - 22BTRCL169"
      ],
      "metadata": {
        "id": "ii8sBCGHTvPN"
      },
      "id": "ii8sBCGHTvPN"
    },
    {
      "cell_type": "code",
      "source": [
        "#Problem21\n",
        "data = {\n",
        "    'District code': [1, 2, 3, 4, 5],\n",
        "    'State name': ['JAMMU AND KASHMIR', 'JAMMU AND KASHMIR', 'JAMMU AND KASHMIR', 'JAMMU AND KASHMIR', 'JAMMU AND KASHMIR'],\n",
        "    'District name': ['Kupwara', 'Badgam', 'Leh(Ladakh)', 'Kargil', 'Punch'],\n",
        "    'Male': [474190, None, 78971, None, 251899],\n",
        "    'Female': [396164, 355704, 54516, 63017, 224936],\n",
        "    'Male_Literate': [282823, 207741, 62834, 56301, 163333],\n",
        "    'Female_Literate': [156831, 127908, 30936, 29935, 98391]\n",
        "}\n",
        "\n",
        "df = pd.DataFrame(data)\n",
        "\n",
        "df['Literacy_Gap'] = df['Male_Literate'] - df['Female_Literate']\n",
        "\n",
        "plt.figure(figsize=(10, 6))\n",
        "plt.bar(df['District name'], df['Literacy_Gap'], color='skyblue', width=0.3)\n",
        "plt.xlabel('District')\n",
        "plt.ylabel('Literacy Gap (Male - Female)')\n",
        "plt.xticks(rotation=45, ha='right')\n",
        "plt.tight_layout()\n",
        "plt.show()"
      ],
      "metadata": {
        "colab": {
          "base_uri": "https://localhost:8080/",
          "height": 607
        },
        "id": "3jFEdGJQzpiq",
        "outputId": "cbe64180-8433-4000-8b66-82144fb78de8"
      },
      "id": "3jFEdGJQzpiq",
      "execution_count": 9,
      "outputs": [
        {
          "output_type": "display_data",
          "data": {
            "text/plain": [
              "<Figure size 1000x600 with 1 Axes>"
            ],
            "image/png": "[encoded data removed]"
          },
          "metadata": {}
        }
      ]
    },
    {
      "cell_type": "markdown",
      "source": [
        "**PROBLEM 22**\n",
        "\n",
        "GUNJ CHARAN WAGHMARE - 22BTRCL058"
      ],
      "metadata": {
        "id": "HfL1wAUhTeVw"
      },
      "id": "HfL1wAUhTeVw"
    },
    {
      "cell_type": "code",
      "source": [
        "import pandas as pd\n",
        "import seaborn as sns\n",
        "import matplotlib.pyplot as plt\n",
        "\n",
        "# Assuming 'census' is your DataFrame containing population data\n",
        "state_population = census.groupby('State/UT')['Population'].sum()\n",
        "\n",
        "# Merge hospital and government hospital data on 'State/UT'\n",
        "merged_data = pd.merge(hospital, gov_hospitals, on='State/UT')\n",
        "merged_data = pd.merge(merged_data, state_population, on='State/UT')\n",
        "\n",
        "# Calculate per capita figures\n",
        "merged_data['urban_hospital_per_capita'] = merged_data['Urban_Government_Hospitals'] / merged_data['Population']\n",
        "merged_data['rural_hospital_per_capita'] = merged_data['Rural_Government_Hospitals'] / merged_data['Population']\n",
        "\n",
        "# Plot comparison of healthcare facilities between urban and rural areas\n",
        "plt.figure(figsize=(12, 8))\n",
        "plt.scatter(merged_data['Urban_Government_Hospitals'], merged_data['Urban_Government_Beds'],\n",
        "            s=merged_data['urban_hospital_per_capita'] * 999999, color='blue', label='Urban')\n",
        "plt.scatter(merged_data['Rural_Government_Hospitals'], merged_data['Rural_Government_Beds'],\n",
        "            s=merged_data['rural_hospital_per_capita'] * 999999, color='red', label='Rural')\n",
        "plt.xscale('log')\n",
        "plt.yscale('log')\n",
        "plt.xlabel('Number of Hospitals (log scale)')\n",
        "plt.ylabel('Number of Hospital Beds (log scale)')\n",
        "plt.title('Comparison of Healthcare Facilities Between Urban and Rural Areas (log scale)')\n",
        "plt.legend()\n",
        "\n",
        "# Customize the grid\n",
        "plt.grid(True, which='both', linestyle='-', linewidth=0.9)  # Show grid lines for both major and minor ticks\n",
        "plt.minorticks_on()  # Turn on minor ticks\n",
        "plt.grid(which='minor', alpha=0.2)  # Set alpha (transparency) for minor grid lines\n",
        "\n",
        "# Save the plot as an image file\n",
        "plt.savefig('healthcare_facilities_comparison.png')\n",
        "\n",
        "# Show the plot\n",
        "plt.show()\n"
      ],
      "metadata": {
        "id": "LK0wew9mNUWG"
      },
      "id": "LK0wew9mNUWG",
      "execution_count": null,
      "outputs": []
    },
    {
      "cell_type": "markdown",
      "source": [
        "**PROBLEM 23**\n",
        "\n",
        "GUNJ CHARAN WAGHMARE - 22BTRCL058"
      ],
      "metadata": {
        "id": "A8nZphjtcbgg"
      },
      "id": "A8nZphjtcbgg"
    },
    {
      "cell_type": "code",
      "source": [
        "ayush = pd.read_csv(\"AYUSH.csv\")\n",
        "ayush"
      ],
      "metadata": {
        "id": "tMFTxfC9chI_"
      },
      "id": "tMFTxfC9chI_",
      "execution_count": null,
      "outputs": []
    },
    {
      "cell_type": "code",
      "source": [
        "ayush.columns"
      ],
      "metadata": {
        "id": "_CXi0i0-cxId"
      },
      "id": "_CXi0i0-cxId",
      "execution_count": null,
      "outputs": []
    },
    {
      "cell_type": "code",
      "source": [
        "import seaborn as sns\n",
        "import matplotlib.pyplot as plt\n",
        "\n",
        "# Limit ayush dataframe to the first 36 rows\n",
        "ayush = ayush[:36]\n",
        "\n",
        "# Extract relevant columns from the dataframe\n",
        "ayush_hospitals = ayush[['State / UT', 'Total_No_of_Hospitals']]\n",
        "ayush_beds = ayush[['State / UT', 'Total_No_of_Hospitals']]\n",
        "\n",
        "# Set up the figure and axes for subplots\n",
        "fig, axs = plt.subplots(2, 1, figsize=(12, 10))\n",
        "\n",
        "# Plot the number of AYUSH hospitals by state\n",
        "sns.barplot(x='State / UT', y='Total_No_of_Hospitals', data=ayush_hospitals, ax=axs[0])\n",
        "axs[0].set_yscale('log')\n",
        "axs[0].set_title('Number of AYUSH Hospitals by State')\n",
        "axs[0].set_xlabel('State/UT')\n",
        "axs[0].set_ylabel('Total Number of Hospitals (log scale)')\n",
        "\n",
        "# Plot the number of AYUSH hospital beds by state\n",
        "sns.barplot(x='State / UT', y='Total_No_of_Hospitals', data=ayush_beds, ax=axs[1])\n",
        "axs[1].set_yscale('log')\n",
        "axs[1].set_title('Number of AYUSH Hospital Beds by State')\n",
        "axs[1].set_xlabel('State/UT')\n",
        "axs[1].set_ylabel('Total Number of Hospital Beds (log scale)')\n",
        "\n",
        "plt.setp(axs[0].xaxis.get_majorticklabels(), rotation=75)\n",
        "plt.setp(axs[1].xaxis.get_majorticklabels(), rotation=75)\n",
        "\n",
        "# Adjust layout to prevent overlap\n",
        "plt.tight_layout()\n",
        "\n",
        "# Show the plots\n",
        "plt.show()\n"
      ],
      "metadata": {
        "id": "cTuhxuh3c0AT"
      },
      "id": "cTuhxuh3c0AT",
      "execution_count": null,
      "outputs": []
    },
    {
      "cell_type": "markdown",
      "source": [
        "**PROBLEM 24**\n",
        "\n",
        "SURAJ J - 22BTRCL153"
      ],
      "metadata": {
        "id": "ydIAaPEwgIMq"
      },
      "id": "ydIAaPEwgIMq"
    },
    {
      "cell_type": "code",
      "source": [
        "import pandas as pd\n",
        "import seaborn as sns\n",
        "import matplotlib.pyplot as plt\n",
        "\n",
        "# Step 1: Load the data\n",
        "# Update the path to your housing data file\n",
        "housing_data = pd.read_csv('/content/housing.csv')\n",
        "\n",
        "# Step 2: Calculate metrics\n",
        "# Calculate the proportion of rural households that are livable and have toilets on the premises\n",
        "housing_data['Rural_Proportion_Livable'] = housing_data['Households_Rural_Livable'] / housing_data['Households_Rural']\n",
        "housing_data['Rural_Proportion_Toilet'] = housing_data['Households_Rural_Toilet_Premise'] / housing_data['Households_Rural']\n",
        "\n",
        "# Calculate the proportion of urban households that are livable and have toilets on the premises\n",
        "housing_data['Urban_Proportion_Livable'] = housing_data['Households_Urban_Livable'] / housing_data['Households_Urban']\n",
        "housing_data['Urban_Proportion_Toilet'] = housing_data['Households_Urban_Toilet_Premise'] / housing_data['Households_Urban']\n",
        "\n",
        "# Step 3: Visualize the data using bar charts\n",
        "# Set the figure size and style\n",
        "plt.figure(figsize=(15, 8))\n",
        "sns.set_style('whitegrid')\n",
        "\n",
        "# Bar chart for rural livability and toilet availability\n",
        "sns.barplot(x='District', y='Rural_Proportion_Livable', data=housing_data, color='skyblue', label='Proportion Livable')\n",
        "sns.barplot(x='District', y='Rural_Proportion_Toilet', data=housing_data, color='lightgreen', alpha=0.7, label='Proportion with Toilets')\n",
        "\n",
        "# Customize plot\n",
        "plt.title('Rural Housing Conditions Across Districts', fontsize=16)\n",
        "plt.xlabel('District', fontsize=12)\n",
        "plt.ylabel('Proportion', fontsize=12)\n",
        "plt.xticks(rotation=45, ha='right')\n",
        "plt.legend(title='Metric')\n",
        "\n",
        "# Adjust layout and display the plot\n",
        "plt.tight_layout()\n",
        "plt.show()\n",
        "\n",
        "# Plotting urban livability and toilet availability across districts\n",
        "plt.figure(figsize=(15, 8))\n",
        "sns.set_style('whitegrid')\n",
        "\n",
        "sns.barplot(x='District', y='Urban_Proportion_Livable', data=housing_data, color='skyblue', label='Proportion Livable')\n",
        "sns.barplot(x='District', y='Urban_Proportion_Toilet', data=housing_data, color='lightgreen', alpha=0.7, label='Proportion with Toilets')\n",
        "\n",
        "# Customize plot\n",
        "plt.title('Urban Housing Conditions Across Districts', fontsize=16)\n",
        "plt.xlabel('District', fontsize=12)\n",
        "plt.ylabel('Proportion', fontsize=12)\n",
        "plt.xticks(rotation=45, ha='right')\n",
        "plt.legend(title='Metric')\n",
        "\n",
        "# Adjust layout and display the plot\n",
        "plt.tight_layout()\n",
        "plt.show()\n"
      ],
      "metadata": {
        "id": "IZuTOZwogKjD"
      },
      "execution_count": null,
      "outputs": [],
      "id": "IZuTOZwogKjD"
    },
    {
      "cell_type": "code",
      "source": [],
      "metadata": {
        "id": "7IUL-6AWulMr"
      },
      "id": "7IUL-6AWulMr",
      "execution_count": null,
      "outputs": []
    },
    {
      "cell_type": "markdown",
      "source": [
        "**PROBLEM 25**\n",
        "\n",
        "SURAJ J - 22BTRCL153"
      ],
      "metadata": {
        "id": "x7ofh5pLg-Ir"
      },
      "id": "x7ofh5pLg-Ir"
    },
    {
      "cell_type": "code",
      "source": [
        "import pandas as pd\n",
        "import seaborn as sns\n",
        "import matplotlib.pyplot as plt\n",
        "\n",
        "# Load combined data\n",
        "data = pd.read_csv('merged_hospital_census_data.csv')\n",
        "\n",
        "# Convert HospitalBeds and Population columns to numeric data types\n",
        "data['HospitalBeds'] = pd.to_numeric(data['HospitalBeds'], errors='coerce')\n",
        "data['Population'] = pd.to_numeric(data['Population'], errors='coerce')\n",
        "\n",
        "# Group data by state and aggregate beds and population\n",
        "state_data = data.groupby('State/UT').agg({\n",
        "    'HospitalBeds': 'sum',  # Sum the hospital beds for each state\n",
        "    'Population': 'sum'     # Sum the population for each state\n",
        "}).reset_index()\n",
        "\n",
        "# Calculate beds per thousand people\n",
        "state_data['beds_per_thousand'] = (state_data['HospitalBeds'] / state_data['Population']) * 1000\n",
        "\n",
        "# Print the calculated data\n",
        "print(\"Calculated Data: Beds per Thousand People by State/UT\")\n",
        "print(state_data[['State/UT', 'beds_per_thousand']])\n",
        "\n",
        "# Visualize the data\n",
        "\n",
        "# Set the figure size\n",
        "plt.figure(figsize=(12, 8))\n",
        "\n",
        "# Create a bar plot\n",
        "sns.barplot(x='beds_per_thousand', y='State/UT', data=state_data, palette='coolwarm')\n",
        "\n",
        "# Add title and labels\n",
        "plt.title('Hospital Beds per Thousand People by State/UT')\n",
        "plt.xlabel('Beds per Thousand People')\n",
        "plt.ylabel('State/UT')\n",
        "\n",
        "# Display the plot\n",
        "plt.show()"
      ],
      "metadata": {
        "id": "fhGvMEoPg7ii"
      },
      "execution_count": null,
      "outputs": [],
      "id": "fhGvMEoPg7ii"
    },
    {
      "cell_type": "markdown",
      "source": [
        "**PROBLEM 26**\n",
        "\n",
        "SURAJ J - 22BTRCL153"
      ],
      "metadata": {
        "id": "704ezapLq7qu"
      },
      "id": "704ezapLq7qu"
    },
    {
      "cell_type": "code",
      "source": [
        "import pandas as pd\n",
        "import seaborn as sns\n",
        "import matplotlib.pyplot as plt\n",
        "\n",
        "# Load census data and hospital data from CSV files\n",
        "census_data = pd.read_csv('Clean_Data/census.csv')\n",
        "hospital_data = pd.read_csv('/content/all_hospitals (1).csv')\n",
        "\n",
        "# Calculate total age population by summing age group columns\n",
        "census_data['Total_Age_Population'] = (\n",
        "    census_data['Age_Group_0_29'] +\n",
        "    census_data['Age_Group_30_49'] +\n",
        "    census_data['Age_Group_50'] +\n",
        "    census_data['Age not stated']\n",
        ")\n",
        "\n",
        "# Calculate gender ratio (Male / Female)\n",
        "census_data['Gender_Ratio'] = census_data['Male'] / census_data['Female']\n",
        "\n",
        "# Calculate total literacy (sum of Literate_Male and Literate_Female)\n",
        "census_data['Total_Literacy'] = census_data['Male_Literate'] + census_data['Female_Literate']\n",
        "\n",
        "# Merge census and hospital data on a common key (e.g., 'State/UT')\n",
        "merged_data = pd.merge(census_data, hospital_data, left_on='State name', right_on='State/UT')\n",
        "\n",
        "# Calculate beds per capita (beds per 1000 people)\n",
        "merged_data['Beds_per_Capita'] = (merged_data['HospitalBeds'] / merged_data['Population']) * 1000\n",
        "\n",
        "# Visualize the correlation between total age population and beds per capita\n",
        "sns.lmplot(x='Total_Age_Population', y='Beds_per_Capita', data=merged_data, aspect=1.5)\n",
        "plt.xlabel('Total Age Population')\n",
        "plt.ylabel('Beds per Capita')\n",
        "plt.title('Correlation between Total Age Population and Beds per Capita')\n",
        "plt.show()\n",
        "\n",
        "# Visualize the correlation between gender ratio and beds per capita\n",
        "sns.lmplot(x='Gender_Ratio', y='Beds_per_Capita', data=merged_data, aspect=1.5)\n",
        "plt.xlabel('Gender Ratio (Males per Female)')\n",
        "plt.ylabel('Beds per Capita')\n",
        "plt.title('Correlation between Gender Ratio and Beds per Capita')\n",
        "plt.show()\n",
        "\n",
        "# Visualize the correlation between total literacy and beds per capita\n",
        "sns.lmplot(x='Total_Literacy', y='Beds_per_Capita', data=merged_data, aspect=1.5)\n",
        "plt.xlabel('Total Literacy')\n",
        "plt.ylabel('Beds per Capita')\n",
        "plt.title('Correlation between Total Literacy and Beds per Capita')\n",
        "plt.show()\n",
        "\n",
        "# Print merged data to examine the results and correlations\n",
        "print(merged_data)"
      ],
      "metadata": {
        "id": "bFC5jAiyiDpm"
      },
      "execution_count": null,
      "outputs": [],
      "id": "bFC5jAiyiDpm"
    },
    {
      "cell_type": "code",
      "source": [],
      "metadata": {
        "id": "hgIi7Bl6xMUE"
      },
      "id": "hgIi7Bl6xMUE",
      "execution_count": null,
      "outputs": []
    },
    {
      "cell_type": "markdown",
      "source": [
        "#"
      ],
      "metadata": {
        "id": "wJNbfbfJwWK-"
      },
      "id": "wJNbfbfJwWK-"
    }
  ],
  "metadata": {
    "kernelspec": {
      "display_name": "Python 3 (ipykernel)",
      "language": "python",
      "name": "python3"
    },
    "language_info": {
      "codemirror_mode": {
        "name": "ipython",
        "version": 3
      },
      "file_extension": ".py",
      "mimetype": "text/x-python",
      "name": "python",
      "nbconvert_exporter": "python",
      "pygments_lexer": "ipython3",
      "version": "3.11.5"
    },
    "colab": {
      "provenance": []
    }
  },
  "nbformat": 4,
  "nbformat_minor": 5
}
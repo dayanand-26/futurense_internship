{
  "nbformat": 4,
  "nbformat_minor": 0,
  "metadata": {
    "colab": {
      "provenance": []
    },
    "kernelspec": {
      "name": "python3",
      "display_name": "Python 3"
    },
    "language_info": {
      "name": "python"
    }
  },
  "cells": [
    {
      "cell_type": "markdown",
      "source": [
        "**PROBLEM 1**\n",
        "\n",
        "DAYANANDASHABARI S -\n",
        "22BTRCL045"
      ],
      "metadata": {
        "id": "iEF8ZGPpKEyC"
      }
    },
    {
      "cell_type": "code",
      "source": [
        "import pandas as pd\n",
        "\n",
        "def keep_required_columns(input_file, output_file, required_columns):\n",
        "  # Read the CSV file into a DataFrame\n",
        "  df = pd.read_csv(input_file)\n",
        "\n",
        "  # Select only the required columns\n",
        "  df = df[required_columns]\n",
        "\n",
        "  # Save the modified DataFrame to a new CSV file\n",
        "  df.to_csv(output_file, index=False)\n",
        "\n",
        "# Example usage\n",
        "input_file = 'census_2011.csv'\n",
        "output_file = 'filtered_data.csv'\n",
        "\n",
        "# Required columns (adjust list as needed)\n",
        "required_columns = [\"State name\", \"District name\", \"Population\", \"Male\",\n",
        "                    \"Female\", \"Literate\", \"Male_Literate\", \"Female_Literate\",\n",
        "                    \"Rural_Households\", \"Urban_Households\", \"Households\",\n",
        "                    \"Age_Group_0_29\", \"Age_Group_30_49\", \"Age_Group_50\",\n",
        "                    \"Age not stated\"]\n",
        "\n",
        "keep_required_columns(input_file, output_file, required_columns)\n",
        "\n",
        "print(f'Only required columns kept. Check {output_file}')\n",
        "result = pd.read_csv(output_file)\n",
        "print(result)\n"
      ],
      "metadata": {
        "id": "I6HCN8MEPWtW"
      },
      "execution_count": null,
      "outputs": []
    },
    {
      "cell_type": "markdown",
      "source": [
        "**Problem 02**\n",
        "\n",
        "vishnu roopesh.c -\n",
        "22btrcl169"
      ],
      "metadata": {
        "id": "h3VXzKfbShYU"
      }
    },
    {
      "cell_type": "code",
      "source": [
        "import pandas as pd\n",
        "\n",
        "# Load the CSV file into a DataFrame\n",
        "df = pd.read_csv('/content/census_2011.csv')\n",
        "\n",
        "# Define the column name changes\n",
        "column_name_changes = {\n",
        "    'State name': 'State/UT',\n",
        "    'District name': 'District',\n",
        "    'Male_Literate': 'Literate_Male',\n",
        "    'Female_Literate': 'Literate_Female',\n",
        "    'Rural_Households': 'Households_Rural',\n",
        "    'Urban_ Households': 'Households_Urban',\n",
        "    'Age_Group_0_29': 'Young_and_Adult',\n",
        "    'Age_Group_30_49': 'Middle_Aged',\n",
        "    'Age_Group_50': 'Senior_Citizen',\n",
        "    'Age not stated': 'Age_Not_Stated'\n",
        "}\n",
        "\n",
        "# Rename columns\n",
        "df.rename(columns=column_name_changes, inplace=True)\n",
        "\n",
        "# Save the modified DataFrame back to a CSV file\n",
        "df.to_csv('modified_file.csv', index=False)\n",
        "\n",
        "# Optionally, you can also display the first few rows of the modified DataFrame\n",
        "print(df.head())"
      ],
      "metadata": {
        "id": "W3hVnHtVSC9f"
      },
      "execution_count": null,
      "outputs": []
    },
    {
      "cell_type": "markdown",
      "source": [
        "**Problem 02**\n",
        "\n",
        "Suraj J -\n",
        "22btrcl153"
      ],
      "metadata": {
        "id": "jT8C1Ip-Q_04"
      }
    },
    {
      "cell_type": "code",
      "source": [
        "import pandas as pd  # Import pandas library for working with CSV data\n",
        "\n",
        "def rename_state_ut_name(name):\n",
        "  words = name.split()\n",
        "  new_words = []\n",
        "  for word in words:\n",
        "    if word.lower() == \"and\":\n",
        "      new_words.append(word.lower())\n",
        "    else:\n",
        "      new_words.append(word.capitalize())\n",
        "  return \" \".join(new_words)\n",
        "\n",
        "df = pd.read_csv('census_2011.csv')\n",
        "\n",
        "df['State name'] = df['State name'].apply(rename_state_ut_name)\n",
        "\n",
        "print(df)\n"
      ],
      "metadata": {
        "id": "b_DaxKIZQyGJ"
      },
      "execution_count": null,
      "outputs": []
    },
    {
      "cell_type": "markdown",
      "source": [
        "**Problem 04**\n",
        "\n",
        "vishnu roopesh.c -\n",
        "22btrcl169"
      ],
      "metadata": {
        "id": "qW2YGbc6SeXG"
      }
    },
    {
      "cell_type": "code",
      "source": [
        "import pandas as pd\n",
        "\n",
        "# Read the districts included in Telangana from the text file\n",
        "with open('/content/sample_data/Telangana.txt', 'r') as file:\n",
        "    telangana_districts = file.read().splitlines()\n",
        "\n",
        "# Load the CSV file into a DataFrame\n",
        "df = pd.read_csv('/content/census_2011.csv')\n",
        "\n",
        "# Rename State/UT from \"Andhra Pradesh\" to \"Telangana\" for the given districts\n",
        "df.loc[df['District name'].isin(telangana_districts), 'State/UT'] = 'Telangana'\n",
        "\n",
        "# Save the modified DataFrame back to a CSV file\n",
        "df.to_csv('modified_file.csv', index=False)\n",
        "\n",
        "# Optionally, you can also display the first few rows of the modified DataFrame\n",
        "print(df.head())"
      ],
      "metadata": {
        "id": "ws9n2cKESGrw"
      },
      "execution_count": null,
      "outputs": []
    },
    {
      "cell_type": "code",
      "source": [
        "import pandas as pd\n",
        "\n",
        "# Read the districts included in Ladakh from the text file\n",
        "ladakh_districts = ['Leh', 'Kargil']\n",
        "\n",
        "# Load the CSV file into a DataFrame\n",
        "df = pd.read_csv('/content/census_2011.csv')\n",
        "\n",
        "# Rename State/UT from \"Jammu and Kashmir\" to \"Ladakh\" for the given districts\n",
        "df.loc[df['District name'].isin(ladakh_districts), 'State/UT'] = 'Ladakh'\n",
        "\n",
        "# Save the modified DataFrame back to a CSV file\n",
        "df.to_csv('modified_file.csv', index=False)\n",
        "\n",
        "# Optionally, you can also display the first few rows of the modified DataFrame\n",
        "print(df.head())"
      ],
      "metadata": {
        "id": "E2tgu4bFSJf-"
      },
      "execution_count": null,
      "outputs": []
    },
    {
      "cell_type": "code",
      "source": [],
      "metadata": {
        "id": "jI-st5x-TQ_M"
      },
      "execution_count": null,
      "outputs": []
    }
  ]
}